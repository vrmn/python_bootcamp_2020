{
 "cells": [
  {
   "cell_type": "code",
   "execution_count": 43,
   "metadata": {},
   "outputs": [],
   "source": [
    "import numpy as np\n",
    "import scipy.linalg as linalg\n",
    "import matplotlib.pyplot as plt\n",
    "%matplotlib inline"
   ]
  },
  {
   "cell_type": "code",
   "execution_count": 44,
   "metadata": {},
   "outputs": [],
   "source": [
    "# using numpy"
   ]
  },
  {
   "cell_type": "code",
   "execution_count": 45,
   "metadata": {},
   "outputs": [
    {
     "name": "stdout",
     "output_type": "stream",
     "text": [
      "<type 'numpy.ndarray'>\n"
     ]
    },
    {
     "data": {
      "text/plain": [
       "array([1, 2, 3])"
      ]
     },
     "execution_count": 45,
     "metadata": {},
     "output_type": "execute_result"
    }
   ],
   "source": [
    "x = np.array([1,2,3])\n",
    "print(type(x))\n",
    "x\n"
   ]
  },
  {
   "cell_type": "code",
   "execution_count": 46,
   "metadata": {},
   "outputs": [],
   "source": [
    "x = np.array((4,5,6))"
   ]
  },
  {
   "cell_type": "code",
   "execution_count": 47,
   "metadata": {},
   "outputs": [
    {
     "name": "stdout",
     "output_type": "stream",
     "text": [
      "<type 'numpy.ndarray'>\n"
     ]
    },
    {
     "data": {
      "text/plain": [
       "array([4, 5, 6])"
      ]
     },
     "execution_count": 47,
     "metadata": {},
     "output_type": "execute_result"
    }
   ],
   "source": [
    "print(type(x))\n",
    "x"
   ]
  },
  {
   "cell_type": "code",
   "execution_count": 48,
   "metadata": {},
   "outputs": [
    {
     "name": "stdout",
     "output_type": "stream",
     "text": [
      "[1. 2. 3.]\n"
     ]
    }
   ],
   "source": [
    "x = np.array([1,2,3], dtype=float) # dtype float makes your values float otherwise they will be int\n",
    "print(x)"
   ]
  },
  {
   "cell_type": "code",
   "execution_count": 49,
   "metadata": {},
   "outputs": [
    {
     "name": "stdout",
     "output_type": "stream",
     "text": [
      "6\n"
     ]
    }
   ],
   "source": [
    "x = np.array([[1,2,3],\n",
    "             [4,5,6]])\n",
    "print(x[1,2]) ## can access value by using subscript location in this case row 1 and column 2 should return 6"
   ]
  },
  {
   "cell_type": "code",
   "execution_count": 50,
   "metadata": {},
   "outputs": [
    {
     "data": {
      "text/plain": [
       "array([1, 4])"
      ]
     },
     "execution_count": 50,
     "metadata": {},
     "output_type": "execute_result"
    }
   ],
   "source": [
    "x[:,0]  # can acces a whole column like this. in this case this brings back the whole first column "
   ]
  },
  {
   "cell_type": "code",
   "execution_count": 51,
   "metadata": {},
   "outputs": [
    {
     "data": {
      "text/plain": [
       "array([1, 2, 3])"
      ]
     },
     "execution_count": 51,
     "metadata": {},
     "output_type": "execute_result"
    }
   ],
   "source": [
    "x[0,:]   # this is how you access a whole row"
   ]
  },
  {
   "cell_type": "code",
   "execution_count": 52,
   "metadata": {},
   "outputs": [
    {
     "data": {
      "text/plain": [
       "array([5, 6])"
      ]
     },
     "execution_count": 52,
     "metadata": {},
     "output_type": "execute_result"
    }
   ],
   "source": [
    "x[1,1:]    # slice and get the last to elements of a row"
   ]
  },
  {
   "cell_type": "code",
   "execution_count": 53,
   "metadata": {},
   "outputs": [
    {
     "data": {
      "text/plain": [
       "array([5, 6])"
      ]
     },
     "execution_count": 53,
     "metadata": {},
     "output_type": "execute_result"
    }
   ],
   "source": [
    "x[-1, -2:]  # you can use nefagtive indexes to refer to the end of the array compare to top"
   ]
  },
  {
   "cell_type": "code",
   "execution_count": 54,
   "metadata": {},
   "outputs": [
    {
     "name": "stdout",
     "output_type": "stream",
     "text": [
      "('addition: \\n', array([[2., 4.],\n",
      "       [6., 8.]]))\n",
      "('\\nelement-wise multiplication (which you dont want for linear algebra\\n', array([[ 1.,  4.],\n",
      "       [ 9., 16.]]))\n",
      "('\\nmultiplication(dotproduct)\\n', array([[ 7., 10.],\n",
      "       [15., 22.]]))\n",
      "('\\ndot is also a member of np.array\\n', array([[ 7., 10.],\n",
      "       [15., 22.]]))\n"
     ]
    }
   ],
   "source": [
    "x = np.array([[1., 2.],\n",
    "             [3., 4.]])\n",
    "print('addition: \\n', x + x )\n",
    "print('\\nelement-wise multiplication (which you dont want for linear algebra\\n', x * x)\n",
    "print('\\nmultiplication(dotproduct)\\n', np.dot(x,x))\n",
    "print('\\ndot is also a member of np.array\\n', x.dot(x))"
   ]
  },
  {
   "cell_type": "code",
   "execution_count": 55,
   "metadata": {},
   "outputs": [],
   "source": [
    "#  x @ x python 3.5 also introudeced the @ operator for matrix multiplication"
   ]
  },
  {
   "cell_type": "code",
   "execution_count": 56,
   "metadata": {},
   "outputs": [
    {
     "name": "stdout",
     "output_type": "stream",
     "text": [
      "('transpose\\n', array([[1., 3.],\n",
      "       [2., 4.]]))\n",
      "('\\nNumpy inverse\\n', array([[-2. ,  1. ],\n",
      "       [ 1.5, -0.5]]))\n",
      "('\\nScipy Inverse\\n', array([[-2. ,  1. ],\n",
      "       [ 1.5, -0.5]]))\n"
     ]
    }
   ],
   "source": [
    "print('transpose\\n', x.T)  # how to transpose with numpy\n",
    "print('\\nNumpy inverse\\n', np.linalg.inv(x))  # how to get inverse with numpy\n",
    "print('\\nScipy Inverse\\n', linalg.inv(x))   # how to get inverse with Scipy"
   ]
  },
  {
   "cell_type": "code",
   "execution_count": 57,
   "metadata": {},
   "outputs": [
    {
     "name": "stdout",
     "output_type": "stream",
     "text": [
      "('zeros\\n', array([0., 0., 0., 0., 0., 0., 0.]))\n",
      "('\\nzeros(3x2)\\n', array([[1., 1.],\n",
      "       [1., 1.],\n",
      "       [1., 1.]]))\n",
      "('\\neye\\n', array([[1., 0., 0.],\n",
      "       [0., 1., 0.],\n",
      "       [0., 0., 1.]]))\n"
     ]
    }
   ],
   "source": [
    "print('zeros\\n', np.zeros(7))  # how to create a matrix of all zeros\n",
    "print('\\nzeros(3x2)\\n', np.ones((3,2)))  # how to create a matrix of all ones\n",
    "print('\\neye\\n', np.eye(3))  # how to create the identity matrix"
   ]
  },
  {
   "cell_type": "code",
   "execution_count": 58,
   "metadata": {},
   "outputs": [
    {
     "data": {
      "text/plain": [
       "array([0. , 0.1, 0.2, 0.3, 0.4, 0.5, 0.6, 0.7, 0.8, 0.9, 1. , 1.1, 1.2,\n",
       "       1.3, 1.4, 1.5, 1.6, 1.7, 1.8, 1.9])"
      ]
     },
     "execution_count": 58,
     "metadata": {},
     "output_type": "execute_result"
    }
   ],
   "source": [
    "np.arange(0, 2, 0.1)"
   ]
  },
  {
   "cell_type": "code",
   "execution_count": 59,
   "metadata": {},
   "outputs": [
    {
     "data": {
      "text/plain": [
       "array([0.        , 0.10526316, 0.21052632, 0.31578947, 0.42105263,\n",
       "       0.52631579, 0.63157895, 0.73684211, 0.84210526, 0.94736842,\n",
       "       1.05263158, 1.15789474, 1.26315789, 1.36842105, 1.47368421,\n",
       "       1.57894737, 1.68421053, 1.78947368, 1.89473684, 2.        ])"
      ]
     },
     "execution_count": 59,
     "metadata": {},
     "output_type": "execute_result"
    }
   ],
   "source": [
    "np.linspace(0, 2, 20)"
   ]
  },
  {
   "cell_type": "code",
   "execution_count": 60,
   "metadata": {},
   "outputs": [
    {
     "data": {
      "text/plain": [
       "[<matplotlib.lines.Line2D at 0x7f1857e6ed90>]"
      ]
     },
     "execution_count": 60,
     "metadata": {},
     "output_type": "execute_result"
    },
    {
     "data": {
      "image/png": "[encoded data removed]",
      "text/plain": [
       "<Figure size 432x288 with 1 Axes>"
      ]
     },
     "metadata": {
      "needs_background": "light"
     },
     "output_type": "display_data"
    }
   ],
   "source": [
    "# using matplot lib\n",
    "\n",
    "a = np.array([6,3,5,2,4,1])\n",
    "plt.plot([1,4,2,5,3,6])\n",
    "plt.plot(a)"
   ]
  },
  {
   "cell_type": "code",
   "execution_count": 61,
   "metadata": {},
   "outputs": [
    {
     "data": {
      "image/png": "[encoded data removed]",
      "text/plain": [
       "<Figure size 432x288 with 1 Axes>"
      ]
     },
     "metadata": {
      "needs_background": "light"
     },
     "output_type": "display_data"
    }
   ],
   "source": [
    "# using matplot lib\n",
    "\n",
    "a = np.array([6,3,5,2,4,1])\n",
    "plt.plot([1,4,2,5,3,6])\n",
    "plt.plot(a);"
   ]
  },
  {
   "cell_type": "code",
   "execution_count": 62,
   "metadata": {},
   "outputs": [
    {
     "data": {
      "image/png": "[encoded data removed]",
      "text/plain": [
       "<Figure size 432x288 with 1 Axes>"
      ]
     },
     "metadata": {
      "needs_background": "light"
     },
     "output_type": "display_data"
    }
   ],
   "source": [
    "plt.plot(np.arange(0,1, 0.1), [1,4,3,2,6,4,7,3,4,5]);"
   ]
  },
  {
   "cell_type": "code",
   "execution_count": 64,
   "metadata": {},
   "outputs": [
    {
     "data": {
      "text/plain": [
       "array([[1., 2.],\n",
       "       [3., 4.]])"
      ]
     },
     "execution_count": 64,
     "metadata": {},
     "output_type": "execute_result"
    }
   ],
   "source": [
    "x = np.asarray(x)  # the function numpy.asarray() will convert its argumetns to an ndarray if itsnt already one. Handy way of accepting either python list or nd arrays\n",
    "x"
   ]
  },
  {
   "cell_type": "code",
   "execution_count": null,
   "metadata": {},
   "outputs": [],
   "source": []
  }
 ],
 "metadata": {
  "kernelspec": {
   "display_name": "Python 2",
   "language": "python",
   "name": "python2"
  },
  "language_info": {
   "codemirror_mode": {
    "name": "ipython",
    "version": 2
   },
   "file_extension": ".py",
   "mimetype": "text/x-python",
   "name": "python",
   "nbconvert_exporter": "python",
   "pygments_lexer": "ipython2",
   "version": "2.7.17"
  }
 },
 "nbformat": 4,
 "nbformat_minor": 2
}
