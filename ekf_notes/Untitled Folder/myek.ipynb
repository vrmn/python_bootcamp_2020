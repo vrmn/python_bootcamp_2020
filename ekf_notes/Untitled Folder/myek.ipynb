{
 "cells": [
  {
   "cell_type": "code",
   "execution_count": 2,
   "metadata": {},
   "outputs": [],
   "source": [
    "import numpy as np\n",
    "from numpy import dot\n",
    "from scipy.linalg import inv"
   ]
  },
  {
   "cell_type": "code",
   "execution_count": 3,
   "metadata": {},
   "outputs": [],
   "source": [
    "# step 1 desing the state, create the vector that will stor the n states. in this case you have position and velocity. \n",
    "\n",
    "position_x = []\n",
    "velocity_x_dot = []\n",
    "# thus\n",
    "state_bold_x = np.array([[position_x],\n",
    "                        [velocity_x_dot]])"
   ]
  },
  {
   "cell_type": "code",
   "execution_count": 4,
   "metadata": {},
   "outputs": [],
   "source": [
    "# step 1.1 design the state covariance. \n",
    "# the variance sneed to be reasonable values. Recall that this matrix has the variances (sigman**2), also that position and velocity are correclated. \n",
    "# if you know how correlated they are good use the number, otherwise\n",
    "# if you have no idea how correlated they are dont worry the filter will compute this. \n",
    "sigma_squared_x_initial = []\n",
    "sigma_squared_x_dot_initial = []\n",
    "# this\n",
    "P = np.diag([sigma_squared_x_initial, sigma_squared_x_dot_initial])"
   ]
  },
  {
   "cell_type": "code",
   "execution_count": 5,
   "metadata": {},
   "outputs": [],
   "source": [
    "# now you need to specfifyt the state tranisiton function (F)\n",
    "# our job as kalman filter desinger is to spefiy F usch that xhat = Fx peforms the innovation (prediction) for our system. \n",
    "# design the process model. Here youre going to use the ower of linear algebra. \n",
    "# each variable in the state vector (x) needs an innovation equation. \n",
    "# for position_x assume the innovation equation is position_x + (velocity_x_dot * dt)\n",
    "# assume velocity is not know so velocity_x_dot_hat = velocity_x_dot . this holds true as long as velocity doens tchange too much over each innovation . \n",
    "\n",
    "\n",
    "\n",
    "\n",
    "# process model looks like               xHat   =   position_x + velocity_x_dot* dt\n",
    "#                          velocity_x_dot_hat   =       0      + velocity_x_dot \n",
    "\n",
    "# thus the state transition function is            [[  1    ,    dt] \n",
    "#                                                   [  0    ,    1 ]]"
   ]
  },
  {
   "cell_type": "code",
   "execution_count": 16,
   "metadata": {},
   "outputs": [],
   "source": [
    "dt = 0.1\n",
    "x = np.array([10.0, 4.5])\n",
    "P = np.diag([500, 49])\n",
    "F = np.array([[1,dt],\n",
    "              [0,1]])\n",
    "B = np.array([])\n",
    "u = np.array([])\n",
    "Q = np.array([[0, 0],\n",
    "             [0, 0]])\n",
    "\n",
    "def innovation(x, P, F):\n",
    "    \n",
    "    x = dot(F, x) + dot(B, u)\n",
    "    P = dot(dot(F,P),F.T) + Q\n",
    "    \n",
    "#     print(x)\n",
    "#     print(P)\n",
    "    \n",
    "    return x, P"
   ]
  },
  {
   "cell_type": "code",
   "execution_count": 17,
   "metadata": {},
   "outputs": [
    {
     "data": {
      "text/plain": [
       "(array([10.45,  4.5 ]), array([[500.49,   4.9 ],\n",
       "        [  4.9 ,  49.  ]]))"
      ]
     },
     "execution_count": 17,
     "metadata": {},
     "output_type": "execute_result"
    }
   ],
   "source": [
    "innovation(x, P, F)"
   ]
  },
  {
   "cell_type": "code",
   "execution_count": 18,
   "metadata": {},
   "outputs": [
    {
     "name": "stdout",
     "output_type": "stream",
     "text": [
      "('x = ', array([10.45,  4.5 ]))\n"
     ]
    }
   ],
   "source": [
    "dt = 0.1\n",
    "x = np.array([10.0, 4.5])\n",
    "P = np.diag([500, 49])\n",
    "F = np.array([[1,dt],\n",
    "              [0,1]])\n",
    "\n",
    "x, P = innovation(x=x, P=P, F=F)\n",
    "print('x = ', x)"
   ]
  },
  {
   "cell_type": "code",
   "execution_count": 19,
   "metadata": {},
   "outputs": [
    {
     "name": "stdout",
     "output_type": "stream",
     "text": [
      "('x = ', array([10.9,  4.5]))\n",
      "('x = ', array([11.35,  4.5 ]))\n",
      "('x = ', array([11.8,  4.5]))\n",
      "('x = ', array([12.25,  4.5 ]))\n"
     ]
    }
   ],
   "source": [
    "\n",
    "for _ in range (4):\n",
    "    x ,P = innovation(x=x, P=P, F=F)\n",
    "    print('x = ', x)"
   ]
  },
  {
   "cell_type": "code",
   "execution_count": 20,
   "metadata": {},
   "outputs": [
    {
     "name": "stdout",
     "output_type": "stream",
     "text": [
      "[[512.25  24.5 ]\n",
      " [ 24.5   49.  ]]\n"
     ]
    }
   ],
   "source": [
    "# innovation() computes both the mean and covariance of the innovation.\n",
    "print(P)"
   ]
  },
  {
   "cell_type": "code",
   "execution_count": 21,
   "metadata": {},
   "outputs": [],
   "source": [
    "# the value avove is the  value of P after five innovation (prediction)\n",
    "# we denote this as PHat in the kalman filter equations "
   ]
  },
  {
   "cell_type": "code",
   "execution_count": 22,
   "metadata": {},
   "outputs": [],
   "source": [
    "def predict(x, P, F, B, u, Q):\n",
    "    \n",
    "    x = dot(F, x) + dot(B, u)\n",
    "    P = dot(dot(F,P),F.T) + Q\n",
    "    \n",
    "#     print(x)\n",
    "#     print(P)\n",
    "    \n",
    "    return x, P\n",
    "\n",
    "\n",
    "\n",
    "def update(H,P, R, z):\n",
    "    S = dot(H,P).dot(H.T) + R    #  S = dot(dot(H,P),H.T)  #system uncertainty\n",
    "    K = dot(P, H.T).dot(inv(S))  #  K = dot(dot(P,H.T),inv(S)) Kalman gain \n",
    "    y = z - dot(H,x)\n",
    "    x += dot(K,y)   # x = x + dot(K,y)  state update\n",
    "    P = P - dot(K, H).dot(P)  # P = P - dot(dot(K,H),P)  covariance update\n",
    "    \n",
    "    return x, P"
   ]
  },
  {
   "cell_type": "code",
   "execution_count": 29,
   "metadata": {},
   "outputs": [],
   "source": [
    "class KalmanFilter(object):\n",
    "    \n",
    "    def __init__(self, states_x, measurements_z, control_input_u=0):\n",
    "        \n",
    "        self.states_x = states_x\n",
    "        self.measurements_z = measurements_z\n",
    "        self.control_input_u = control_input_u\n",
    "        \n",
    "        self.x = np.zeros((states_x, 1))    # states\n",
    "        self.P = np.eye(states_x)           # uncertainty covariance\n",
    "        self.Q = np.eye(states_x)\n",
    "        self.B = None\n",
    "        self.F = np.eye(states_x)\n",
    "        self.H = np.zeros((measurements_z, states_x))\n",
    "        self.R = np.eye(measurements_z)\n",
    "        self.z = np.array([[None]*self.measurements_z]).T\n",
    "        \n",
    "        self.K = np.zeros((states_x, measurements_z)) # kalman gain\n",
    "        self.y = np.zeros((measurements_z, 1))\n",
    "        self.S = np.zeros((states_x, measurements_z)) # system uncertainty\n",
    "        self.SI = np.zeros((measurements_z, measurements_z)) # inverse system uncertainty\n",
    "        \n",
    "        # identiy matrix. Do no talter this \n",
    "        self._I = np.eye(states_x)\n",
    "        \n",
    "        self.inv = np.linalg.inv\n",
    "        \n",
    "    def predict(self, u=None, F=None, Q=None):\n",
    "        \n",
    "        x = dot(F, x) + dot(B, u)\n",
    "        P = dot(dot(F,P),F.T) + Q\n",
    "        \n",
    "        self.x_prior = self.x.copy()\n",
    "        self.P_prior = self.P.copy()\n",
    "        \n",
    "        \n",
    "    def update(self, z, R=None, H=None):\n",
    "        \n",
    "        self.S = dot(H,dot(self.P,H.T)) + R\n",
    "        self.SI = self.inv(self.S)\n",
    "        self.K = dot(dot(self.P,H.T),self.SI)\n",
    "        \n",
    "        # x = x + Ky\n",
    "        # preditct new x with residual scaled by the kalman gain\n",
    "        self.x = xelf.x + dot(self.K, self.y)\n",
    "        \n",
    "        # predict new covariance matrix\n",
    "        I_KH = self._I - dot(self.K, H)\n",
    "        self.P = dot(dot(I_KH, self.P), I_KH.T) + dot(dot(self.K, R), self.K.T)\n",
    "        \n",
    "        self.x_post = self.x.copy()\n",
    "        self.P_post = self.P.copy()\n",
    "\n",
    "        \n",
    "        \n",
    "        "
   ]
  },
  {
   "cell_type": "code",
   "execution_count": 34,
   "metadata": {},
   "outputs": [],
   "source": [
    "kf = KalmanFilter(states_x=2, measurements_z=1)"
   ]
  },
  {
   "cell_type": "code",
   "execution_count": 41,
   "metadata": {},
   "outputs": [],
   "source": [
    "\n",
    "dt = 0.1\n",
    "x = np.array([10.0, 4.5])\n",
    "P = np.diag([500, 49])\n",
    "F = np.array([[1,dt],\n",
    "              [0,1]])\n",
    "B = np.array([])\n",
    "u = np.array([])\n",
    "Q = np.array([[0, 0],\n",
    "             [0, 0]])\n",
    "\n",
    "\n",
    "from numpy import dot\n",
    "from scipy.linalg import inv\n",
    "\n",
    "count = 50\n",
    "# track, zs = compute_dog_data(R_var, Q_var, count)\n",
    "xs, cov = [], []\n",
    "for z in zs:\n",
    "    # predict\n",
    "    x = dot(F, x)\n",
    "    P = dot(F, P).dot(F.T) + Q\n",
    "    \n",
    "    #update\n",
    "    S = dot(H, P).dot(H.T) + R\n",
    "    K = dot(P, H.T).dot(inv(S))\n",
    "    y = z - dot(H, x)\n",
    "    x += dot(K, y)\n",
    "    P = P - dot(K, H).dot(P)\n",
    "    \n",
    "           self.x = xelf.x + dot(self.K, self.y)\n",
    "        \n",
    "        # predict new covariance matrix\n",
    "        I_KH = self._I - dot(self.K, H)\n",
    "        self.P = dot(dot(I_KH, self.P), I_KH.T) + dot(dot(self.K, R), self.K.T)\n",
    "        \n",
    "    \n",
    "    xs.append(x)\n",
    "    cov.append(P)\n",
    "\n",
    "xs, cov = np.array(xs), np.array(cov)\n",
    "# plot_track(xs[:, 0], track, zs, cov, plot_P=False, dt=dt)\n",
    "\n"
   ]
  },
  {
   "cell_type": "code",
   "execution_count": null,
   "metadata": {},
   "outputs": [],
   "source": []
  },
  {
   "cell_type": "code",
   "execution_count": null,
   "metadata": {},
   "outputs": [],
   "source": []
  }
 ],
 "metadata": {
  "kernelspec": {
   "display_name": "Python 2",
   "language": "python",
   "name": "python2"
  },
  "language_info": {
   "codemirror_mode": {
    "name": "ipython",
    "version": 2
   },
   "file_extension": ".py",
   "mimetype": "text/x-python",
   "name": "python",
   "nbconvert_exporter": "python",
   "pygments_lexer": "ipython2",
   "version": "2.7.17"
  }
 },
 "nbformat": 4,
 "nbformat_minor": 2
}
