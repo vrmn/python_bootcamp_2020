{
 "cells": [
  {
   "cell_type": "code",
   "execution_count": 1,
   "metadata": {},
   "outputs": [],
   "source": [
    "from __future__ import division, print_function"
   ]
  },
  {
   "cell_type": "code",
   "execution_count": 2,
   "metadata": {},
   "outputs": [],
   "source": [
    "# beliefs as gaussians"
   ]
  },
  {
   "cell_type": "code",
   "execution_count": 8,
   "metadata": {},
   "outputs": [
    {
     "name": "stdout",
     "output_type": "stream",
     "text": [
      "<class '__main__.Gaussian'>\n",
      "<type 'type'>\n"
     ]
    }
   ],
   "source": [
    "from collections import namedtuple\n",
    "gaussian = namedtuple('Gaussian', ['mean', 'var'])\n",
    "print(gaussian)\n",
    "print(type(gaussian))"
   ]
  },
  {
   "cell_type": "code",
   "execution_count": 10,
   "metadata": {},
   "outputs": [
    {
     "name": "stdout",
     "output_type": "stream",
     "text": [
      "Gaussian(mean=3.4, var=10.1)\n",
      "Gaussian(mean=4.5, var=0.04000000000000001)\n"
     ]
    }
   ],
   "source": [
    "g1 = gaussian(3.4, 10.1)\n",
    "g2 = gaussian(mean=4.5, var=0.2**2)\n",
    "print(g1)\n",
    "print(g2)"
   ]
  },
  {
   "cell_type": "code",
   "execution_count": null,
   "metadata": {},
   "outputs": [],
   "source": []
  },
  {
   "cell_type": "code",
   "execution_count": null,
   "metadata": {},
   "outputs": [],
   "source": []
  },
  {
   "cell_type": "code",
   "execution_count": 6,
   "metadata": {},
   "outputs": [],
   "source": [
    "# understanding gaussian multiplication \n",
    "\n",
    "z = gaussian(10., 1.) "
   ]
  },
  {
   "cell_type": "code",
   "execution_count": 11,
   "metadata": {},
   "outputs": [],
   "source": [
    "def update(prior, likelihood):\n",
    "    posterior = gaussian_multiply(likelihood, prior)\n",
    "    return posterior"
   ]
  },
  {
   "cell_type": "code",
   "execution_count": 12,
   "metadata": {},
   "outputs": [],
   "source": [
    "\n",
    "\n",
    "def gaussian_multiply(g1, g2):\n",
    "    mean = (g1.var * g2.mean + g2.var * g1.mean) / (g1.var + g2.var)\n",
    "    variance = (g1.var * g2.var) / (g1.var + g2.var)\n",
    "    return gaussian(mean, variance)"
   ]
  },
  {
   "cell_type": "code",
   "execution_count": 13,
   "metadata": {},
   "outputs": [],
   "source": [
    "def predict(pos, movement):\n",
    "    return gaussian(pos.mean + movement.mean, pos.var + movement.var)"
   ]
  },
  {
   "cell_type": "code",
   "execution_count": 15,
   "metadata": {},
   "outputs": [],
   "source": [
    "process_var = 1. # variance in the drones movevment\n",
    "sensor_var = 2. # variance in the sensor  \n",
    "#                 for a real Kalman filter of course you will not be randomly changing these values.\n",
    "\n",
    "\n",
    "zs = [1,2,3,4]  # not good data just put there to move fourwared\n",
    "\n",
    "x = gaussian(0., 20.**2)  # drones ihnintial position, N(0, 20**2), remember we turned our beliefs into gausisan \n",
    "velocity = 1\n",
    "dt = 1. # time step in seconds\n",
    "process_model = gaussian(velocity*dt, process_var) # displacement to add to x  # a descrtip of how we think the drone moves \n",
    "                                                    # the concrol input ot the robot\n",
    "\n",
    "# perform Kalman filter\n",
    "for z in zs:       # is a measurement \n",
    "    prior = predict(x, process_model)    # returns prior gausisan \n",
    "    likelihood = gaussian(z, sensor_var)\n",
    "    x = update(prior, likelihood) # returns posterios"
   ]
  },
  {
   "cell_type": "code",
   "execution_count": 17,
   "metadata": {},
   "outputs": [],
   "source": [
    "# The filtering is implemented in only a few lines of code. Most of the code is either initialization, storing of data, simulating the dog movement, and printing results. The code that performs the filtering is very succinct:\n",
    "\n",
    "prior = predict(x, process_model)\n",
    "likelihood = gaussian(z, sensor_var)\n",
    "x = update(prior, likelihood)\n",
    "\n",
    "# another way instad of using the predict and update functions\n",
    "# for z in zs:\n",
    "#     # predict\n",
    "#     dx = velocity*dt\n",
    "#     pos = pos + dx\n",
    "#     var = var + process_var\n",
    "\n",
    "#     # update\n",
    "#     pos  = (var*z + sensor_var*pos) / (var + sensor_var)\n",
    "#     var = (var * sensor_var) / (var + sensor_var)"
   ]
  },
  {
   "cell_type": "code",
   "execution_count": 18,
   "metadata": {},
   "outputs": [],
   "source": [
    "# perform Kalman filter\n",
    "for z in zs:       # is a measurement \n",
    "    prior = predict(x, process_model)    # returns prior gausisan \n",
    "    likelihood = gaussian(z, sensor_var)\n",
    "    x = update(prior, likelihood) # returns posterios\n",
    "    "
   ]
  },
  {
   "cell_type": "code",
   "execution_count": 19,
   "metadata": {},
   "outputs": [],
   "source": [
    "# The Kalman gain $K$ is a scale factor that chooses a value along the residual. This leads to an alternative but equivalent implementation for update() and predict():\n",
    "\n",
    "def update(prior, measurement):\n",
    "    x, P = prior        # mean and variance of prior\n",
    "    z, R = measurement  # mean and variance of measurement\n",
    "    \n",
    "    y = z - x        # residual\n",
    "    K = P / (P + R)  # Kalman gain\n",
    "\n",
    "    x = x + K*y      # posterior\n",
    "    P = (1 - K) * P  # posterior variance\n",
    "    return gaussian(x, P)\n",
    "\n",
    "def predict(posterior, movement):\n",
    "    x, P = posterior # mean and variance of posterior\n",
    "    dx, Q = movement # mean and variance of movement\n",
    "    x = x + dx\n",
    "    P = P + Q\n",
    "    return gaussian(x, P)\n",
    "\n",
    "# R measurement noise\n",
    "# Q process noise\n",
    "# P variance \n",
    "\n",
    "# FULL DESCRIPTION OF THE ALGORITHM\n",
    "# The Kalman filter makes a prediction,\n",
    "# takes a measurement, \n",
    "# and then forms a new estimate somewhere between the two.\n",
    "\n",
    "# THE GENERIC ALGORITHM \n",
    "\n",
    "Initialization\n",
    "\n",
    "1. Initialize the state of the filter\n",
    "2. Initialize our belief in the state\n",
    "\n",
    "Predict\n",
    "\n",
    "1. Use system behavior to predict state at the next time step\n",
    "2. Adjust belief to account for the uncertainty in prediction\n",
    "\n",
    "Update\n",
    "\n",
    "1. Get a measurement and associated belief about its accuracy\n",
    "2. Compute residual between estimated state and measurement\n",
    "3. Compute scaling factor based on whether the measurement\n",
    "or prediction is more accurate\n",
    "4. set state between the prediction and measurement based \n",
    "on scaling factor\n",
    "5. update belief in the state based on how certain we are \n",
    "in the measurement\n",
    "\n"
   ]
  },
  {
   "cell_type": "code",
   "execution_count": 3,
   "metadata": {},
   "outputs": [
    {
     "name": "stdout",
     "output_type": "stream",
     "text": [
      "[[1.  0.1]\n",
      " [0.  1. ]]\n"
     ]
    }
   ],
   "source": [
    "import numpy as np\n",
    "from numpy import dot\n",
    "dt = 0.1\n",
    "\n",
    "F = np.array([[1,dt],\n",
    "              [0,1]])\n",
    "print(F)"
   ]
  },
  {
   "cell_type": "code",
   "execution_count": 4,
   "metadata": {},
   "outputs": [
    {
     "name": "stdout",
     "output_type": "stream",
     "text": [
      "[[1.  0. ]\n",
      " [0.1 1. ]]\n"
     ]
    }
   ],
   "source": [
    "print(F.T)"
   ]
  },
  {
   "cell_type": "code",
   "execution_count": 5,
   "metadata": {},
   "outputs": [
    {
     "name": "stdout",
     "output_type": "stream",
     "text": [
      "[[500   0]\n",
      " [  0  49]]\n"
     ]
    }
   ],
   "source": [
    "P = np.diag([500, 49])\n",
    "print(P)"
   ]
  },
  {
   "cell_type": "code",
   "execution_count": 6,
   "metadata": {},
   "outputs": [
    {
     "name": "stdout",
     "output_type": "stream",
     "text": [
      "[[500.    4.9]\n",
      " [  0.   49. ]]\n"
     ]
    }
   ],
   "source": [
    "FP = dot(F,P)\n",
    "print(FP)"
   ]
  },
  {
   "cell_type": "code",
   "execution_count": 7,
   "metadata": {},
   "outputs": [
    {
     "data": {
      "text/plain": [
       "array([[500.49,   4.9 ],\n",
       "       [  4.9 ,  49.  ]])"
      ]
     },
     "execution_count": 7,
     "metadata": {},
     "output_type": "execute_result"
    }
   ],
   "source": [
    "dot(dot(F,P),F.T)"
   ]
  },
  {
   "cell_type": "code",
   "execution_count": 8,
   "metadata": {},
   "outputs": [],
   "source": [
    "def innovation(x, P, F):\n",
    "    \n",
    "    x = dot(F, x)\n",
    "    P = dot(dot(F,P),F.T)\n",
    "    return x, P"
   ]
  },
  {
   "cell_type": "code",
   "execution_count": 9,
   "metadata": {},
   "outputs": [],
   "source": [
    "x = np.array([10.0, 4.5])\n",
    "\n",
    "x, P = innovation(x=x, P=P, F=F)"
   ]
  },
  {
   "cell_type": "code",
   "execution_count": 10,
   "metadata": {},
   "outputs": [
    {
     "name": "stdout",
     "output_type": "stream",
     "text": [
      "[[500.49   4.9 ]\n",
      " [  4.9   49.  ]]\n"
     ]
    }
   ],
   "source": [
    "print(P)"
   ]
  },
  {
   "cell_type": "code",
   "execution_count": 11,
   "metadata": {},
   "outputs": [
    {
     "name": "stdout",
     "output_type": "stream",
     "text": [
      "('x = ', array([10.9,  4.5]))\n",
      "('x = ', array([11.35,  4.5 ]))\n",
      "('x = ', array([11.8,  4.5]))\n",
      "('x = ', array([12.25,  4.5 ]))\n"
     ]
    }
   ],
   "source": [
    "for _ in range (4):\n",
    "    x ,P = innovation(x=x, P=P, F=F)\n",
    "    print('x = ', x)"
   ]
  },
  {
   "cell_type": "code",
   "execution_count": 12,
   "metadata": {},
   "outputs": [
    {
     "name": "stdout",
     "output_type": "stream",
     "text": [
      "[[512.25  24.5 ]\n",
      " [ 24.5   49.  ]]\n"
     ]
    }
   ],
   "source": [
    "print(P)"
   ]
  },
  {
   "cell_type": "code",
   "execution_count": null,
   "metadata": {},
   "outputs": [],
   "source": []
  }
 ],
 "metadata": {
  "kernelspec": {
   "display_name": "Python 2",
   "language": "python",
   "name": "python2"
  },
  "language_info": {
   "codemirror_mode": {
    "name": "ipython",
    "version": 2
   },
   "file_extension": ".py",
   "mimetype": "text/x-python",
   "name": "python",
   "nbconvert_exporter": "python",
   "pygments_lexer": "ipython2",
   "version": "2.7.17"
  }
 },
 "nbformat": 4,
 "nbformat_minor": 2
}
