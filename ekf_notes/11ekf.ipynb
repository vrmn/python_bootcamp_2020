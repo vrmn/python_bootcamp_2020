{
 "cells": [
  {
   "cell_type": "code",
   "execution_count": 1,
   "metadata": {},
   "outputs": [],
   "source": [
    "from math import sqrt\n",
    "def HJacobian_at(x):\n",
    "    \"\"\" compute Jacobian of H matrix for state x \"\"\"\n",
    "\n",
    "    horiz_dist = x[0]\n",
    "    altitude   = x[2]\n",
    "    denom = sqrt(horiz_dist**2 + altitude**2)"
   ]
  },
  {
   "cell_type": "code",
   "execution_count": 2,
   "metadata": {},
   "outputs": [],
   "source": [
    "def hx(x):\n",
    "    \"\"\" compute measurement for slant range that would correspond \n",
    "    to state x.\n",
    "    \"\"\"\n",
    "    \n",
    "    return (x[0]**2 + x[2]**2) ** 0.5"
   ]
  },
  {
   "cell_type": "code",
   "execution_count": 3,
   "metadata": {},
   "outputs": [],
   "source": [
    "from numpy.random import randn\n",
    "import math\n",
    "\n",
    "class RadarSim(object):\n",
    "    \"\"\" Simulates the radar signal returns from an object flying \n",
    "    at a constant altityude and velocity in 1D. \n",
    "    \"\"\"\n",
    "    \n",
    "    def __init__(self, dt, pos, vel, alt):\n",
    "        self.pos = pos\n",
    "        self.vel = vel\n",
    "        self.alt = alt\n",
    "        self.dt = dt\n",
    "        \n",
    "    def get_range(self):\n",
    "        \"\"\" Returns slant range to the object. Call once for each\n",
    "        new measurement at dt time from last call.\n",
    "        \"\"\"\n",
    "        \n",
    "        # add some process noise to the system\n",
    "        self.vel = self.vel  + .1*randn()\n",
    "        self.alt = self.alt + .1*randn()\n",
    "        self.pos = self.pos + self.vel*self.dt\n",
    "    \n",
    "        # add measurement noise\n",
    "        err = self.pos * 0.05*randn()\n",
    "        slant_dist = math.sqrt(self.pos**2 + self.alt**2)\n",
    "        \n",
    "        return slant_dist + err"
   ]
  },
  {
   "cell_type": "code",
   "execution_count": null,
   "metadata": {},
   "outputs": [],
   "source": []
  }
 ],
 "metadata": {
  "kernelspec": {
   "display_name": "Python 2",
   "language": "python",
   "name": "python2"
  },
  "language_info": {
   "codemirror_mode": {
    "name": "ipython",
    "version": 2
   },
   "file_extension": ".py",
   "mimetype": "text/x-python",
   "name": "python",
   "nbconvert_exporter": "python",
   "pygments_lexer": "ipython2",
   "version": "2.7.17"
  }
 },
 "nbformat": 4,
 "nbformat_minor": 2
}
