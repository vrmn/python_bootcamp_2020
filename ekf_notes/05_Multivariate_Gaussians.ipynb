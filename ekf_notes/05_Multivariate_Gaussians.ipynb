{
 "cells": [
  {
   "cell_type": "code",
   "execution_count": 3,
   "metadata": {},
   "outputs": [
    {
     "data": {
      "text/plain": [
       "array([[2.50000e-02, 2.72750e+00],\n",
       "       [2.72750e+00, 3.27235e+02]])"
      ]
     },
     "execution_count": 3,
     "metadata": {},
     "output_type": "execute_result"
    }
   ],
   "source": [
    "# Before we can understand multivariate normal distributions we need to understand the mathematics behind correlations and covariances.\n",
    "\n",
    "# Covariance describes how much two variables change in relation to each other. Covariance is short for correlated variances. \n",
    "\n",
    "# Correlation allows prediction\n",
    "\n",
    "# we end up having a covariancde matrix\n",
    "\n",
    "\n",
    "\n",
    "import numpy as np\n",
    "\n",
    "W = [70.1, 91.2, 59.5, 93.2, 53.5]\n",
    "H = [1.8, 2.0, 1.7, 1.9, 1.6]\n",
    "np.cov(H, W)\n",
    "\n"
   ]
  },
  {
   "cell_type": "code",
   "execution_count": 4,
   "metadata": {},
   "outputs": [
    {
     "data": {
      "text/plain": [
       "array([[2.00000e-02, 2.18200e+00],\n",
       "       [2.18200e+00, 2.61788e+02]])"
      ]
     },
     "execution_count": 4,
     "metadata": {},
     "output_type": "execute_result"
    }
   ],
   "source": [
    "np.cov(H, W, bias=1)\n"
   ]
  },
  {
   "cell_type": "code",
   "execution_count": 5,
   "metadata": {},
   "outputs": [],
   "source": [
    "mu = [2.0, 7.0]"
   ]
  },
  {
   "cell_type": "code",
   "execution_count": 6,
   "metadata": {},
   "outputs": [],
   "source": [
    "\n",
    "\n",
    "P = [[8., 0.], \n",
    "     [0., 3.]]\n",
    "\n"
   ]
  },
  {
   "cell_type": "code",
   "execution_count": 7,
   "metadata": {},
   "outputs": [
    {
     "name": "stdout",
     "output_type": "stream",
     "text": [
      "you have an old version of scipy, upgrade it now!\n"
     ]
    }
   ],
   "source": [
    "import scipy\n",
    "try:\n",
    "    print('{:.4f}'.format(scipy.stats.multivariate_normal(mu, P).pdf(x)))\n",
    "except:\n",
    "    print('you have an old version of scipy, upgrade it now!')"
   ]
  },
  {
   "cell_type": "code",
   "execution_count": 8,
   "metadata": {},
   "outputs": [],
   "source": [
    "# joint probablity denoted P(x, y is the probabilyt of both x and y happening )"
   ]
  },
  {
   "cell_type": "code",
   "execution_count": null,
   "metadata": {},
   "outputs": [],
   "source": [
    "\n",
    "\n",
    "# This is a key point, so read carefully! The radar is only detecting the position of the aircraft. This is called an observed variable. Based on the position estimates we can compute velocity. We call the velocity a hidden variable. Hidden means what it sounds like - there is no sensor that is measuring velocity, thus its value is hidden from us. We are able to use the correlation between position and velocity to infer its value very accurately."
   ]
  }
 ],
 "metadata": {
  "kernelspec": {
   "display_name": "Python 2",
   "language": "python",
   "name": "python2"
  },
  "language_info": {
   "codemirror_mode": {
    "name": "ipython",
    "version": 2
   },
   "file_extension": ".py",
   "mimetype": "text/x-python",
   "name": "python",
   "nbconvert_exporter": "python",
   "pygments_lexer": "ipython2",
   "version": "2.7.17"
  }
 },
 "nbformat": 4,
 "nbformat_minor": 2
}
