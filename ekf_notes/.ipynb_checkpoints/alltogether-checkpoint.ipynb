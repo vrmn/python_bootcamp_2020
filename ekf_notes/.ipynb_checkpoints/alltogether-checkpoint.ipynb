{
 "cells": [
  {
   "cell_type": "code",
   "execution_count": 1,
   "metadata": {},
   "outputs": [],
   "source": [
    "# If we only form estimates from the prediction then the measurement will be ignored.\n",
    "# If this is to work we need to take some kind of blend of the prediction and measurement\n",
    "\n",
    "# the algorithm for gh in a pinch \n",
    "\n",
    "#     Multiple data points are more accurate than one data point, so throw nothing away no matter how inaccurate it is.\n",
    "#     Always choose a number part way between two data points to create a more accurate estimate.\n",
    "#     Predict the next measurement and rate of change based on the current estimate and how much we think it will change.\n",
    "#     The new estimate is then chosen as part way between the prediction and next measurement scaled by how accurate each is.\n"
   ]
  },
  {
   "cell_type": "code",
   "execution_count": 2,
   "metadata": {},
   "outputs": [],
   "source": [
    "# his is almost never true. Real sensors are more likely to get readings nearer the true value, and are less and less likely to get readings the further away from the true value it gets. We will cover this in detail in the Gaussian chapter."
   ]
  },
  {
   "cell_type": "code",
   "execution_count": 4,
   "metadata": {},
   "outputs": [],
   "source": [
    "# The system is the object that we want to estimate."
   ]
  },
  {
   "cell_type": "code",
   "execution_count": 5,
   "metadata": {},
   "outputs": [],
   "source": [
    "# The state of the system is the current configuration or values of that system that is of interest to us"
   ]
  },
  {
   "cell_type": "code",
   "execution_count": 6,
   "metadata": {},
   "outputs": [],
   "source": [
    "# he measurement is a measured value of the system. Measurements can be inaccurate, so it may not have the same value as the state."
   ]
  },
  {
   "cell_type": "code",
   "execution_count": 8,
   "metadata": {},
   "outputs": [],
   "source": [
    "# The state estimate is our filter's estimate of the state."
   ]
  },
  {
   "cell_type": "code",
   "execution_count": 9,
   "metadata": {},
   "outputs": [],
   "source": [
    "# In other words, the state should be understood as the actual value of the system. This value is usually hidden to us. If I stepped on a scale you'd then have a measurement. We call this observable since you can directly observe this measurement. In contrast, you can never directly observe my weight, you can only measure it.\n",
    "\n",
    "# This language of hidden and observable is important. Any estimation problem consists of forming an estimate of a hidden state via observable measurements. If you read the literature these terms are used when defining a problem, so you need to be comfortable with them."
   ]
  },
  {
   "cell_type": "code",
   "execution_count": 10,
   "metadata": {},
   "outputs": [],
   "source": [
    "# We use a process model to mathematically model the system. In this chapter our process model is the assumption that my weight today is yesterday's weight plus my weight gain for the last day. The process model does not model or otherwise account for the sensors."
   ]
  },
  {
   "cell_type": "code",
   "execution_count": 11,
   "metadata": {},
   "outputs": [],
   "source": [
    "# The system error or process error is the error in this model. We never know this value exactly; if we did we could refine our model to have zero error. Some texts use plant model and plant error. You may also see system model. They all mean the same thing."
   ]
  },
  {
   "cell_type": "code",
   "execution_count": 13,
   "metadata": {},
   "outputs": [],
   "source": [
    "# The predict step is known as system propagation. It uses the process model to form a new state estimate. Because of the process error this estimate is imperfect. Assuming we are tracking data over time, we say we propagate the state into the future. Some texts call this the evolution."
   ]
  },
  {
   "cell_type": "code",
   "execution_count": 14,
   "metadata": {},
   "outputs": [],
   "source": [
    "# The update step is known as the measurement update. One iteration of the system propagation and measurement update is known as an epoch."
   ]
  },
  {
   "cell_type": "code",
   "execution_count": 15,
   "metadata": {},
   "outputs": [],
   "source": [
    "# prediction vs measuremnt \n",
    "\n",
    "# In this chapter we will merely be assigning different values to $g$ and $h$ in a more intuitive, and thus less optimal way. But the fundamental idea is to blend somewhat inaccurate measurements with somewhat inaccurate models of how the systems behaves to get a filtered estimate that is better than either information source by itself.?\n",
    "\n",
    "# We can express this as an algorithm:\n",
    "\n",
    "# Initialization\n",
    "\n",
    "# 1. Initialize the state of the filter\n",
    "# 2. Initialize our belief in the state\n",
    "\n",
    "# Predict\n",
    "\n",
    "# 1. Use system behavior to predict state at the next time step\n",
    "# 2. Adjust belief to account for the uncertainty in prediction\n",
    "\n",
    "# Update\n",
    "\n",
    "# 1. Get a measurement and associated belief about its accuracy\n",
    "# 2. Compute residual between estimated state and measurement\n",
    "# 3. New estimate is somewhere on the residual line\n",
    "\n",
    "# We will use this same algorithm throughout the book, albeit with some modifications."
   ]
  },
  {
   "cell_type": "code",
   "execution_count": 16,
   "metadata": {},
   "outputs": [],
   "source": [
    "# generic gh filter algorithm\n",
    "\n",
    "# weights = [158.0, 164.2, 160.3, 159.9, 162.1, 164.6, \n",
    "#            169.6, 167.4, 166.4, 171.0, 171.2, 172.6]  the data is a series of measuremnts that you will iterate over in a for loop\n",
    "\n",
    "\n",
    "def g_h_filter(data, x0, dx, g, h, dt):\n",
    "    \"\"\"\n",
    "    Performs g-h filter on 1 state variable with a fixed g and h.\n",
    "\n",
    "    'data' contains the data to be filtered.\n",
    "    'x0' is the initial value for our state variable\n",
    "    'dx' is the initial change rate for our state variable\n",
    "    'g' is the g-h's g scale factor \n",
    "    'h' is the g-h's h scale factor\n",
    "    'dt' is the length of the time step \n",
    "    \"\"\"\n",
    "    \n",
    "    x_est = x0\n",
    "    results = []\n",
    "    for z in data:     # z is measurements \n",
    "        \n",
    "        #predict step\n",
    "        x_pred = x_est + (dx*dt)   \n",
    "        dx = dx\n",
    "        \n",
    "        # update step \n",
    "        residual = z - x_pred\n",
    "        dx = dx + h * (residual) / dt     # h is the scaling for the change in measuemrn over time \n",
    "        x_est = x_pred + g * residual     # g is the caling we used for the measuremets\n",
    "        \n",
    "        # populate results\n",
    "        results.append(x_est)"
   ]
  },
  {
   "cell_type": "code",
   "execution_count": 17,
   "metadata": {},
   "outputs": [],
   "source": [
    "#  Each filter is differentiated by how $g$ and $h$ are chosen. So there is no 'one size fits all' advice that I can give here. Some filters set $g$ and $h$ as constants, others vary them dynamically. The Kalman filter varies them dynamically at each step. Some filters allow $g$ and $h$ to take any value within a range, others constrain one to be dependent on the other by some function $f(\\dot{}), \\mbox{where }g = f(h)$."
   ]
  },
  {
   "cell_type": "code",
   "execution_count": 18,
   "metadata": {},
   "outputs": [],
   "source": [
    "#  recognize that the typical formulation of the Kalman filter does not use $g$ and $h$ at all. The Kalman filter is a g-h filter because it mathematically reduces to this algorithm. When we design the Kalman filter we use design criteria that can be mathematically reduced to $g$ and $h$, but the Kalman filter form is usually a much more powerful way to think about the problem"
   ]
  },
  {
   "cell_type": "code",
   "execution_count": 19,
   "metadata": {},
   "outputs": [],
   "source": [
    "# a bad inintal guess ca cause ringing  which menas that the singal overshoots and unershoot the data in a suidosdal type pattern"
   ]
  },
  {
   "cell_type": "code",
   "execution_count": 20,
   "metadata": {},
   "outputs": [],
   "source": [
    "# UNDERSTANDING HOW VARYING G AND H AFFECT THE RESULTS\n",
    "# This will give us strong insight into the fundamental strengths and limitations of this type of filter, and help us understand the behavior of the rather more sophisticated Kalman filter."
   ]
  },
  {
   "cell_type": "code",
   "execution_count": 21,
   "metadata": {},
   "outputs": [],
   "source": [
    "# GENERATE WHITE NOSE WITH NUMPY.RANDON.RAND()\n",
    "from numpy.random import randn\n",
    "def gen_data(x0, dx, count, noise_factor):\n",
    "    return [x0 + dx*i + randn()*noise_factor for i in range(count)]\n",
    "\n",
    "measurements = gen_data(0, 1, 30, 1)"
   ]
  },
  {
   "cell_type": "code",
   "execution_count": 24,
   "metadata": {},
   "outputs": [],
   "source": [
    "# USE THE G-H FILTER ON THE GENERATED DATA FUNCITON ABOVE\n",
    "data = g_h_filter(data=measurements, x0=0., dx=1., dt=1., g=.2, h=0.02)\n"
   ]
  },
  {
   "cell_type": "code",
   "execution_count": null,
   "metadata": {},
   "outputs": [],
   "source": [
    "### continue late\n",
    "# the point\n",
    "# \n",
    "\n",
    "# It is clear that as $g$ is larger we more closely follow the measurement instead of the prediction\n",
    "# ow let's leave $g$ unchanged and investigate the effect of modifying $h$. We know that $h$ affects how much we favor the measurement of $\\dot{x}$ vs our prediction"
   ]
  }
 ],
 "metadata": {
  "kernelspec": {
   "display_name": "Python 2",
   "language": "python",
   "name": "python2"
  },
  "language_info": {
   "codemirror_mode": {
    "name": "ipython",
    "version": 2
   },
   "file_extension": ".py",
   "mimetype": "text/x-python",
   "name": "python",
   "nbconvert_exporter": "python",
   "pygments_lexer": "ipython2",
   "version": "2.7.17"
  }
 },
 "nbformat": 4,
 "nbformat_minor": 2
}
