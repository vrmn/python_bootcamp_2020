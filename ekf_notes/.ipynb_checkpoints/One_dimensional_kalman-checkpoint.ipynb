{
 "cells": [
  {
   "cell_type": "code",
   "execution_count": 1,
   "metadata": {},
   "outputs": [],
   "source": [
    "from __future__ import division, print_function"
   ]
  },
  {
   "cell_type": "code",
   "execution_count": 2,
   "metadata": {},
   "outputs": [],
   "source": [
    "# beliefs as gaussians"
   ]
  },
  {
   "cell_type": "code",
   "execution_count": 8,
   "metadata": {},
   "outputs": [
    {
     "name": "stdout",
     "output_type": "stream",
     "text": [
      "<class '__main__.Gaussian'>\n",
      "<type 'type'>\n"
     ]
    }
   ],
   "source": [
    "from collections import namedtuple\n",
    "gaussian = namedtuple('Gaussian', ['mean', 'var'])\n",
    "print(gaussian)\n",
    "print(type(gaussian))"
   ]
  },
  {
   "cell_type": "code",
   "execution_count": 10,
   "metadata": {},
   "outputs": [
    {
     "name": "stdout",
     "output_type": "stream",
     "text": [
      "Gaussian(mean=3.4, var=10.1)\n",
      "Gaussian(mean=4.5, var=0.04000000000000001)\n"
     ]
    }
   ],
   "source": [
    "g1 = gaussian(3.4, 10.1)\n",
    "g2 = gaussian(mean=4.5, var=0.2**2)\n",
    "print(g1)\n",
    "print(g2)"
   ]
  },
  {
   "cell_type": "code",
   "execution_count": null,
   "metadata": {},
   "outputs": [],
   "source": []
  },
  {
   "cell_type": "code",
   "execution_count": null,
   "metadata": {},
   "outputs": [],
   "source": []
  },
  {
   "cell_type": "code",
   "execution_count": 6,
   "metadata": {},
   "outputs": [],
   "source": [
    "# understanding gaussian multiplication \n",
    "\n",
    "z = gaussian(10., 1.) "
   ]
  },
  {
   "cell_type": "code",
   "execution_count": 11,
   "metadata": {},
   "outputs": [],
   "source": [
    "def update(prior, likelihood):\n",
    "    posterior = gaussian_multiply(likelihood, prior)\n",
    "    return posterior"
   ]
  },
  {
   "cell_type": "code",
   "execution_count": 12,
   "metadata": {},
   "outputs": [],
   "source": [
    "\n",
    "\n",
    "def gaussian_multiply(g1, g2):\n",
    "    mean = (g1.var * g2.mean + g2.var * g1.mean) / (g1.var + g2.var)\n",
    "    variance = (g1.var * g2.var) / (g1.var + g2.var)\n",
    "    return gaussian(mean, variance)"
   ]
  },
  {
   "cell_type": "code",
   "execution_count": 13,
   "metadata": {},
   "outputs": [],
   "source": [
    "def predict(pos, movement):\n",
    "    return gaussian(pos.mean + movement.mean, pos.var + movement.var)"
   ]
  },
  {
   "cell_type": "code",
   "execution_count": 15,
   "metadata": {},
   "outputs": [],
   "source": [
    "process_var = 1. # variance in the drones movevment\n",
    "sensor_var = 2. # variance in the sensor  \n",
    "#                 for a real Kalman filter of course you will not be randomly changing these values.\n",
    "\n",
    "\n",
    "zs = [1,2,3,4]  # not good data\n",
    "\n",
    "x = gaussian(0., 20.**2)  # drones ihnintial position, N(0, 20**2), remember we turned our beliefs into gausisan \n",
    "velocity = 1\n",
    "dt = 1. # time step in seconds\n",
    "process_model = gaussian(velocity*dt, process_var) # displacement to add to x  # a descrtip of how we think the drone moves \n",
    "                                                    # the concrol input ot the robot\n",
    "\n",
    "# perform Kalman filter\n",
    "for z in zs:       # is a measurement \n",
    "    prior = predict(x, process_model)    # x is gaausian like g1 or g2\n",
    "    likelihood = gaussian(z, sensor_var)\n",
    "    x = update(prior, likelihood)"
   ]
  },
  {
   "cell_type": "code",
   "execution_count": null,
   "metadata": {},
   "outputs": [],
   "source": [
    "# The filtering is implemented in only a few lines of code. Most of the code is either initialization, storing of data, simulating the dog movement, and printing results. The code that performs the filtering is very succinct:\n",
    "\n",
    "prior = predict(x, process_model)\n",
    "likelihood = gaussian(z, sensor_var)\n",
    "x = update(prior, likelihood)\n",
    "\n",
    "# another way instad of using the predict and update functions\n",
    "for z in zs:\n",
    "    # predict\n",
    "    dx = velocity*dt\n",
    "    pos = pos + dx\n",
    "    var = var + process_var\n",
    "\n",
    "    # update\n",
    "    pos  = (var*z + sensor_var*pos) / (var + sensor_var)\n",
    "    var = (var * sensor_var) / (var + sensor_var)"
   ]
  }
 ],
 "metadata": {
  "kernelspec": {
   "display_name": "Python 2",
   "language": "python",
   "name": "python2"
  },
  "language_info": {
   "codemirror_mode": {
    "name": "ipython",
    "version": 2
   },
   "file_extension": ".py",
   "mimetype": "text/x-python",
   "name": "python",
   "nbconvert_exporter": "python",
   "pygments_lexer": "ipython2",
   "version": "2.7.17"
  }
 },
 "nbformat": 4,
 "nbformat_minor": 2
}
