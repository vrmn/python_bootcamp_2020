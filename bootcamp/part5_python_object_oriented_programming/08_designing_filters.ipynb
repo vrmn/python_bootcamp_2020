{
 "cells": [
  {
   "cell_type": "code",
   "execution_count": 8,
   "metadata": {},
   "outputs": [],
   "source": [
    "import numpy as np"
   ]
  },
  {
   "cell_type": "code",
   "execution_count": 14,
   "metadata": {},
   "outputs": [
    {
     "data": {
      "text/plain": [
       "array([0, 0, 0, 0])"
      ]
     },
     "execution_count": 14,
     "metadata": {},
     "output_type": "execute_result"
    }
   ],
   "source": [
    "# 1 CHOSE STATE VARIABLES - assume here you are tracking a drones x and y position and velocity\n",
    "\n",
    "x = 0\n",
    "y = 0\n",
    "x_dot = 0\n",
    "y_dot = 0\n",
    "\n",
    "state_x = np.array(([x, y, x_dot, y_dot]))\n",
    "state_x\n"
   ]
  },
  {
   "cell_type": "code",
   "execution_count": 16,
   "metadata": {},
   "outputs": [],
   "source": [
    "# 2 DESIGN STATE TRANSITION FUNCTION (F) RECALL THIS TURNS TO (A) WHEN DEALING WITH CONTINUOUS\n",
    "# recall that each variable in the state vector state_x needs an innovation equation \n",
    "# x = 1x + delta_t*x_dot + 0y + 0y_dot\n",
    "# x_dot = x_dot\n",
    "# y = 0x + 0x_dot + 1y + delta_t * y_dot\n",
    "# y_dot = y_dot\n",
    "# thus\n",
    "\n",
    "dt = 1. # time step 1 second\n",
    "F = np.array([[1, dt, 0,  0],\n",
    "              [0,  1, 0,  0],\n",
    "              [0,  0, 1, dt],\n",
    "              [0,  0, 0, 1]])"
   ]
  },
  {
   "cell_type": "code",
   "execution_count": 22,
   "metadata": {},
   "outputs": [],
   "source": [
    "# 3 DEISNG THE PROCESS NOISE MATRIX (Q) here we use constant velocity model\n",
    "\n",
    "def Q_discrete_white_noise(dim, dt=1., var=1., block_size=1, order_by_dim=True):\n",
    "    \"\"\"\n",
    "    Returns the Q matrix for the Discrete Constant White Noise\n",
    "    Model. dim may be either 2, 3, or 4 dt is the time step, and sigma\n",
    "    is the variance in the noise.\n",
    "    Q is computed as the G * G^T * variance, where G is the process noise per\n",
    "    time step. In other words, G = [[.5dt^2][dt]]^T for the constant velocity\n",
    "    model.\n",
    "    Parameters\n",
    "    -----------\n",
    "    dim : int (2, 3, or 4)\n",
    "        dimension for Q, where the final dimension is (dim x dim)\n",
    "    dt : float, default=1.0\n",
    "        time step in whatever units your filter is using for time. i.e. the\n",
    "        amount of time between innovations\n",
    "    var : float, default=1.0\n",
    "        variance in the noise\n",
    "    block_size : int >= 1\n",
    "        If your state variable contains more than one dimension, such as\n",
    "        a 3d constant velocity model [x x' y y' z z']^T, then Q must be\n",
    "        a block diagonal matrix.\n",
    "    order_by_dim : bool, default=True\n",
    "        Defines ordering of variables in the state vector. `True` orders\n",
    "        by keeping all derivatives of each dimensions)\n",
    "        [x x' x'' y y' y'']\n",
    "        whereas `False` interleaves the dimensions\n",
    "        [x y z x' y' z' x'' y'' z'']\n",
    "    Examples\n",
    "    --------\n",
    "    >>> # constant velocity model in a 3D world with a 10 Hz update rate\n",
    "    >>> Q_discrete_white_noise(2, dt=0.1, var=1., block_size=3)\n",
    "    array([[0.000025, 0.0005  , 0.      , 0.      , 0.      , 0.      ],\n",
    "           [0.0005  , 0.01    , 0.      , 0.      , 0.      , 0.      ],\n",
    "           [0.      , 0.      , 0.000025, 0.0005  , 0.      , 0.      ],\n",
    "           [0.      , 0.      , 0.0005  , 0.01    , 0.      , 0.      ],\n",
    "           [0.      , 0.      , 0.      , 0.      , 0.000025, 0.0005  ],\n",
    "           [0.      , 0.      , 0.      , 0.      , 0.0005  , 0.01    ]])\n",
    "    References\n",
    "    ----------\n",
    "    Bar-Shalom. \"Estimation with Applications To Tracking and Navigation\".\n",
    "    John Wiley & Sons, 2001. Page 274.\n",
    "    \"\"\"\n",
    "\n",
    "    if dim not in [2, 3, 4]:\n",
    "        raise ValueError(\"dim must be between 2 and 4\")\n",
    "\n",
    "    if dim == 2:\n",
    "        Q = [[.25*dt**4, .5*dt**3],\n",
    "             [ .5*dt**3,    dt**2]]\n",
    "    elif dim == 3:\n",
    "        Q = [[.25*dt**4, .5*dt**3, .5*dt**2],\n",
    "             [ .5*dt**3,    dt**2,       dt],\n",
    "             [ .5*dt**2,       dt,        1]]\n",
    "    else:\n",
    "        Q = [[(dt**6)/36, (dt**5)/12, (dt**4)/6, (dt**3)/6],\n",
    "             [(dt**5)/12, (dt**4)/4,  (dt**3)/2, (dt**2)/2],\n",
    "             [(dt**4)/6,  (dt**3)/2,   dt**2,     dt],\n",
    "             [(dt**3)/6,  (dt**2)/2 ,  dt,        1.]]\n",
    "\n",
    "    if order_by_dim:\n",
    "        return block_diag(*[Q]*block_size) * var\n",
    "    return order_by_derivative(array(Q), dim, block_size) * var\n",
    "R_std = 0.35\n",
    "Q_std = 0.044\n",
    "\n",
    "q = Q_discrete_white_noise(dim=4, dt=dt, )"
   ]
  },
  {
   "cell_type": "code",
   "execution_count": 4,
   "metadata": {},
   "outputs": [],
   "source": [
    "# 4 DESIGN THE CONTROL FUNCTION (B) for now zero"
   ]
  },
  {
   "cell_type": "code",
   "execution_count": 5,
   "metadata": {},
   "outputs": [],
   "source": [
    "# 5 DESIGN THE MEASUREMENT FUNCTION (H)\n",
    "# recall that te measurement fucntion H defines how we go from the state vriable to the measurements using the eqaution z = Hx\n",
    "# ehere we have measurements only for x and y soz will be designed as [x y].T \n",
    "# we have a state varialbe size 4x1 \n",
    "# if z = Hx and z is 2x1 -> [x y].T we can deduce that H ix 2x4 since (2x1) = (2x4)(4x1)\n",
    "\n",
    "H = np.array([[ 1/0.3048, 0, 0 ,0],\n",
    "              [0 , 0, 1/0.3048, ]])"
   ]
  },
  {
   "cell_type": "code",
   "execution_count": 20,
   "metadata": {},
   "outputs": [],
   "source": [
    "# 6 DESIGN THE MEASUREMENT NOISE MATRIX (R)\n",
    "# assume that x and y variealbe have independent with gaussian processes. Say variance for x and y is 5 meetsrs\n",
    "R = np.array([[5, 0],\n",
    "              [0, 5]])"
   ]
  },
  {
   "cell_type": "code",
   "execution_count": 21,
   "metadata": {},
   "outputs": [],
   "source": [
    "# THE COVARIANCE MATRIX P \n",
    "p = np.eye(4)*500"
   ]
  },
  {
   "cell_type": "code",
   "execution_count": null,
   "metadata": {},
   "outputs": [],
   "source": []
  }
 ],
 "metadata": {
  "kernelspec": {
   "display_name": "Python 2",
   "language": "python",
   "name": "python2"
  },
  "language_info": {
   "codemirror_mode": {
    "name": "ipython",
    "version": 2
   },
   "file_extension": ".py",
   "mimetype": "text/x-python",
   "name": "python",
   "nbconvert_exporter": "python",
   "pygments_lexer": "ipython2",
   "version": "2.7.17"
  }
 },
 "nbformat": 4,
 "nbformat_minor": 2
}
